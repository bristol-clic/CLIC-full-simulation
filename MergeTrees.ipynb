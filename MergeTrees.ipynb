{
 "cells": [
  {
   "cell_type": "code",
   "execution_count": 1,
   "metadata": {},
   "outputs": [
    {
     "name": "stdout",
     "output_type": "stream",
     "text": [
      "Welcome to JupyROOT 6.18/00\n"
     ]
    },
    {
     "ename": "IndexError",
     "evalue": "list index out of range",
     "output_type": "error",
     "traceback": [
      "\u001b[0;31m---------------------------------------------------------------------------\u001b[0m",
      "\u001b[0;31mIndexError\u001b[0m                                Traceback (most recent call last)",
      "\u001b[0;32m<ipython-input-1-8ec36d91aacd>\u001b[0m in \u001b[0;36m<module>\u001b[0;34m\u001b[0m\n\u001b[1;32m     87\u001b[0m     \u001b[0mfiles\u001b[0m\u001b[0;34m.\u001b[0m\u001b[0mappend\u001b[0m\u001b[0;34m(\u001b[0m\u001b[0mfile\u001b[0m\u001b[0;34m)\u001b[0m\u001b[0;34m\u001b[0m\u001b[0;34m\u001b[0m\u001b[0m\n\u001b[1;32m     88\u001b[0m \u001b[0;34m\u001b[0m\u001b[0m\n\u001b[0;32m---> 89\u001b[0;31m \u001b[0mmergedFile\u001b[0m \u001b[0;34m=\u001b[0m \u001b[0mMergeROOTFiles\u001b[0m\u001b[0;34m(\u001b[0m\u001b[0mfiles\u001b[0m\u001b[0;34m)\u001b[0m\u001b[0;34m\u001b[0m\u001b[0;34m\u001b[0m\u001b[0m\n\u001b[0m\u001b[1;32m     90\u001b[0m \u001b[0;31m#mergedFile.Write()\u001b[0m\u001b[0;34m\u001b[0m\u001b[0;34m\u001b[0m\u001b[0;34m\u001b[0m\u001b[0m\n\u001b[1;32m     91\u001b[0m \u001b[0mkeys\u001b[0m \u001b[0;34m=\u001b[0m \u001b[0mmergedFile\u001b[0m\u001b[0;34m.\u001b[0m\u001b[0mGetListOfKeys\u001b[0m\u001b[0;34m(\u001b[0m\u001b[0;34m)\u001b[0m\u001b[0;34m\u001b[0m\u001b[0;34m\u001b[0m\u001b[0m\n",
      "\u001b[0;32m<ipython-input-1-8ec36d91aacd>\u001b[0m in \u001b[0;36mMergeROOTFiles\u001b[0;34m(files)\u001b[0m\n\u001b[1;32m      5\u001b[0m \u001b[0;34m\u001b[0m\u001b[0m\n\u001b[1;32m      6\u001b[0m \u001b[0;32mdef\u001b[0m \u001b[0mMergeROOTFiles\u001b[0m\u001b[0;34m(\u001b[0m\u001b[0mfiles\u001b[0m\u001b[0;34m)\u001b[0m\u001b[0;34m:\u001b[0m\u001b[0;34m\u001b[0m\u001b[0;34m\u001b[0m\u001b[0m\n\u001b[0;32m----> 7\u001b[0;31m     \u001b[0mguideFile\u001b[0m \u001b[0;34m=\u001b[0m \u001b[0mfiles\u001b[0m\u001b[0;34m[\u001b[0m\u001b[0;36m0\u001b[0m\u001b[0;34m]\u001b[0m\u001b[0;34m\u001b[0m\u001b[0;34m\u001b[0m\u001b[0m\n\u001b[0m\u001b[1;32m      8\u001b[0m     \u001b[0;31m#print(type(guideFile))\u001b[0m\u001b[0;34m\u001b[0m\u001b[0;34m\u001b[0m\u001b[0;34m\u001b[0m\u001b[0m\n\u001b[1;32m      9\u001b[0m \u001b[0;34m\u001b[0m\u001b[0m\n",
      "\u001b[0;31mIndexError\u001b[0m: list index out of range"
     ]
    }
   ],
   "source": [
    "import ROOT\n",
    "import os\n",
    "\n",
    "\n",
    "    \n",
    "def MergeROOTFiles(files):\n",
    "    guideFile = files[0]\n",
    "    \n",
    "    if type(guideFile) in (ROOT.TDirectoryFile, ROOT.TFile):\n",
    "        if type(guideFile) == ROOT.TDirectoryFile:\n",
    "            mergedDirectory = ROOT.TDirectoryFile(guideFile.GetName(), guideFile.GetName())\n",
    "        else:\n",
    "            mergedDirectory = ROOT.TFile(\"Merged.root\", \"RECREATE\")\n",
    "        \n",
    "        mergedDirectory.cd()\n",
    "        keys = guideFile.GetListOfKeys()\n",
    "        \n",
    "        for key in keys:\n",
    "            name = key.GetName()\n",
    "            subFiles = [file.Get(name) for file in files]\n",
    "            mergedSubFile = MergeROOTFiles(subFiles)\n",
    "            \n",
    "            # MergedROOTFiles will return None if it encounters a file type it has not\n",
    "            # been designed to handle\n",
    "            if mergedSubFile:\n",
    "                # Incase the sub file is itself a directory which has been cd'd to\n",
    "                mergedDirectory.cd()\n",
    "                mergedSubFile.Write()\n",
    "        \n",
    "        return mergedDirectory\n",
    "\n",
    "        \n",
    "    elif type(guideFile) == ROOT.TTree:\n",
    "        treeList = ROOT.TList()\n",
    "        for file in files:\n",
    "            treeList.Add(file)\n",
    "        mergedTree = ROOT.TTree.MergeTrees(treeList)\n",
    "        return mergedTree\n",
    "    \n",
    "    \n",
    "    elif type(guideFile) in (ROOT.TH1F, ROOT.TH2F, ROOT.TH1D, ROOT.TH2D):\n",
    "        histoList = ROOT.TList()\n",
    "        sumHisto = guideFile\n",
    "        \n",
    "        xMin = sumHisto.GetXaxis().GetXmin()\n",
    "        xMax = sumHisto.GetXaxis().GetXmax()\n",
    "        \n",
    "        # Excludes guide file to avoid double counting\n",
    "        for histo in files[1:]:\n",
    "            # Slightly hacky. Technically loses data, since bins are not neccesarily alligned, but\n",
    "            # in practice the limits are very close anyway, so its good enough for a rough analysis.\n",
    "            histo.GetXaxis().SetLimits(xMin, xMax)\n",
    "            histoList.Add(histo)\n",
    "        \n",
    "        sumHisto.Merge(histoList)\n",
    "        \n",
    "        if \"Pull\" in guideFile.GetName():\n",
    "            sumHisto.Fit(\"gaus\")\n",
    "        \n",
    "        return sumHisto\n",
    "        \n",
    "\n",
    "        \n",
    "# Returns the number of files are available for merging\n",
    "def GetNumOfFiles():\n",
    "    foundFile = True\n",
    "    i = 0\n",
    "    \n",
    "    while foundFile:\n",
    "        filePath = f\"TopRuns/run{i}/histograms.root\"\n",
    "        if os.path.exists(filePath):\n",
    "            i+=1\n",
    "        else:\n",
    "            foundFile = False\n",
    "    \n",
    "    return i\n",
    "        \n",
    "\n",
    "    \n",
    "numberOfFiles = GetNumOfFiles()\n",
    "            \n",
    "files = []\n",
    "for i in range(numberOfFiles):\n",
    "    filePath = f\"TopRuns/run{i}/histograms.root\"\n",
    "    file = ROOT.TFile(filePath)\n",
    "    files.append(file)\n",
    "\n",
    "mergedFile = MergeROOTFiles(files)\n",
    "#mergedFile.Write()\n",
    "keys = mergedFile.GetListOfKeys()\n",
    "names = [key.GetName() for key in keys]\n",
    "mergedFile.Close()"
   ]
  },
  {
   "cell_type": "code",
   "execution_count": 2,
   "metadata": {},
   "outputs": [
    {
     "name": "stdout",
     "output_type": "stream",
     "text": [
      "[NbConvertApp] Converting notebook MergeTrees.ipynb to script\n",
      "[NbConvertApp] Writing 2870 bytes to MergeTrees.py\n"
     ]
    }
   ],
   "source": [
    "# Automatically converts the notebook into a Python script\n",
    "!jupyter nbconvert --to script MergeTrees.ipynb"
   ]
  },
  {
   "cell_type": "code",
   "execution_count": null,
   "metadata": {},
   "outputs": [],
   "source": []
  }
 ],
 "metadata": {
  "kernelspec": {
   "display_name": "Python 3",
   "language": "python",
   "name": "python3"
  },
  "language_info": {
   "codemirror_mode": {
    "name": "ipython",
    "version": 3
   },
   "file_extension": ".py",
   "mimetype": "text/x-python",
   "name": "python",
   "nbconvert_exporter": "python",
   "pygments_lexer": "ipython3",
   "version": "3.6.8"
  }
 },
 "nbformat": 4,
 "nbformat_minor": 4
}
